{
 "cells": [
  {
   "cell_type": "code",
   "execution_count": 1,
   "metadata": {},
   "outputs": [],
   "source": [
    "import os\n",
    "import shutil\n",
    "import pandas as pd\n",
    "import numpy as np\n",
    "# !pip3 install addressparser\n",
    "import addressparser as ap"
   ]
  },
  {
   "cell_type": "markdown",
   "metadata": {},
   "source": [
    "# rename all the excels to year-index and copy to a new folder"
   ]
  },
  {
   "cell_type": "code",
   "execution_count": null,
   "metadata": {
    "tags": []
   },
   "outputs": [],
   "source": [
    "basedir = \"/Users/sun/Desktop/Econ580Data/\"\n",
    "movedir = basedir + \"all/\"\n",
    "\n",
    "# clean all the files in all first \n",
    "if os.path.isdir(movedir):\n",
    "    shutil.rmtree(movedir)\n",
    "os.mkdir(movedir)\n",
    "\n",
    "# used to grant permission\n",
    "# permission_array = []\n",
    "# Walk through all files in the directory that contains the files to copy to the \"all\" folder\n",
    "for root, dirs, files in os.walk(basedir):\n",
    "    # use data from 1999 to 2012\n",
    "    if not root[-4:].isdigit():\n",
    "        continue\n",
    "    if int(root[-4:]) < 2000 or int(root[-4:]) > 2012:\n",
    "        continue\n",
    "    \n",
    "    index = 1\n",
    "    for file in files:\n",
    "        ori_file = os.path.abspath(root) + \"/\" + file\n",
    "        base, extension = os.path.splitext(file)\n",
    "\n",
    "        if extension != \".xls\":\n",
    "            continue\n",
    "        # file year-index.xls\n",
    "        new_file = movedir + root[-4:] + \"-\" + str(index) + extension\n",
    "        \n",
    "        index += 1\n",
    "        # break\n",
    "        shutil.copy(ori_file, new_file)\n",
    "        # permission_array.append(new_file)\n",
    "\n",
    "print(\"Done\")\n",
    "# print(\"\\\"\" + \"\\\",  _\\n\\\"\"\"\".join(permission_array) + \"\\\"\" )"
   ]
  },
  {
   "cell_type": "markdown",
   "metadata": {},
   "source": [
    "# xls2xlsx, in vba file\n",
    "references: \n",
    "1. translate xls to xlsx: https://answers.microsoft.com/en-us/msoffice/forum/msoffice_excel-mso_other/batch-convert-xls-to-xlsx/1d9b3d78-daf0-4014-8fb2-930aca6493b0\n",
    "2. request permission for all: https://docs.microsoft.com/en-us/office/vba/office-mac/grantaccesstomultiplefiles\n"
   ]
  },
  {
   "cell_type": "markdown",
   "metadata": {},
   "source": [
    "# Rename, restructure, format all the files"
   ]
  },
  {
   "cell_type": "markdown",
   "metadata": {},
   "source": [
    "## Rename"
   ]
  },
  {
   "cell_type": "code",
   "execution_count": null,
   "metadata": {},
   "outputs": [],
   "source": [
    "# remove the xls file if it is already converted to xlsx\n",
    "basedir = \"/Users/sun/Desktop/Econ580Data/\"\n",
    "movedir = basedir + \"all/\"\n",
    "\n",
    "# Walk through all files in the directory that contains the files to copy to the \"all\" folder\n",
    "for file in os.listdir(movedir):\n",
    "    # should only have xls and xlsx\n",
    "    ori_file = movedir + file\n",
    "    base, extension = os.path.splitext(file)\n",
    "\n",
    "    if extension != \".xlsx\":\n",
    "        continue\n",
    "    # is now filename.xlsx\n",
    "    # remove the xls based on xlsx file\n",
    "    # print(movedir + file[:-1])\n",
    "    if os.path.exists(movedir + file[:-1]):\n",
    "        # print(\"exist\")\n",
    "        os.remove(movedir + file[:-1]) \n",
    "    else:\n",
    "        # print(\"xls not exist: \", movedir + file[:-1])\n",
    "        pass\n",
    "    \n",
    "# check whether there are xls file not converted to xlsx\n",
    "xls_file = [f for f in os.listdir(movedir) if os.path.splitext(f)[1] == \".xls\"]\n",
    "print(xls_file)"
   ]
  },
  {
   "cell_type": "markdown",
   "metadata": {},
   "source": [
    "## Restructure"
   ]
  },
  {
   "cell_type": "code",
   "execution_count": null,
   "metadata": {},
   "outputs": [],
   "source": [
    "# Format\n",
    "basedir = \"/Users/sun/Desktop/Econ580Data/\"\n",
    "movedir = basedir + \"all/\"\n",
    "outdir = basedir + \"formated/\"\n",
    "\n",
    "# 2000\n",
    "file_path = movedir+\"2000-2.xlsx\"\n",
    "xls = pd.ExcelFile(file_path)\n",
    "# out_path = outdir + \"2000.csv\"\n",
    "\n",
    "for year in range(2012,2013):\n",
    "    file_province = {} # used to check xlsx file if format error\n",
    "    all_data = []\n",
    "    out_path = outdir + str(year) + \".csv\"\n",
    "    for cur_file in os.listdir(movedir):\n",
    "        cur_provinces = [] # add to province dic\n",
    "\n",
    "        # should only have xls and xlsx\n",
    "        ori_file = movedir + cur_file\n",
    "        base, extension = os.path.splitext(cur_file)\n",
    "\n",
    "        if extension != \".xlsx\":\n",
    "            continue\n",
    "        \n",
    "        # if \"2012-16.xlsx\" not in cur_file or \"~$\" in cur_file:\n",
    "        if str(year) not in cur_file or \"~$\" in cur_file:\n",
    "            continue\n",
    "\n",
    "        # open file and parse\n",
    "        print(cur_file)\n",
    "\n",
    "        file_path = movedir+ cur_file\n",
    "        xls = pd.ExcelFile(file_path)           \n",
    "        # Iterate through worksheets in opened Excel file\n",
    "        for sheet in xls.sheet_names:\n",
    "            # Create a Pandas dataframe from the Excel worksheet (with no headers)\n",
    "            dfs = pd.read_excel(file_path, sheet_name=sheet, header=None)\n",
    "            if year == 2012:\n",
    "                # worksheet for year 2012 are vertically appended, others are appended horizontally\n",
    "                list_index = dfs[dfs.isnull().all(1)].index.tolist()\n",
    "                df_list = np.split(dfs, list_index, axis = 0)\n",
    "                # remove all null column\n",
    "                df_list = [df_list[x] for x in range(len(df_list)) if not df_list[x].isnull().all().all()]               \n",
    "            else:\n",
    "                list_index = [x for x in range(dfs.shape[1]) if dfs[:][x].isnull().all(0) ]\n",
    "                # separated by 2 null column\n",
    "                df_list = np.split(dfs, list_index, axis = 1)\n",
    "                # remove all null column\n",
    "                df_list = [df_list[x] for x in range(len(df_list)) if not df_list[x].isnull().all().all()]\n",
    "                # print(len(df_list))\n",
    "            \n",
    "            for df in df_list:\n",
    "                # remove null column and row\n",
    "                df = df.dropna(how=\"all\", axis=0).dropna(how=\"all\", axis=1).values.tolist()\n",
    "                # filter out wrong df\n",
    "                if len(df) < 30:\n",
    "                    print(\"wrong sheet:\", df)\n",
    "                    continue\n",
    "                # strip all the elements\n",
    "                df = [[str(x).strip() if x!= np.nan else \"\" for x in y] for y in df]\n",
    "                # first line would be year e.g. 2000年县(市)社会经济主要指标\n",
    "                \n",
    "                if \"经济主要\" in df[0][0]:\n",
    "                    # check province whether in the first line\n",
    "                    if df[0][0].strip()[0].isdigit():\n",
    "                        df = df[1:]\n",
    "                        province = df[0][0]\n",
    "                    else:\n",
    "                        # province in this line\n",
    "                        # e.g 新疆维吾尔自治区 2006年县(市)社会经济主要指标统计\n",
    "                        privince = df[0][0].strip().split(\" \")[0]\n",
    "\n",
    "                # province in [0][0], get province, remove first line\n",
    "                # get county, start in second line, might change line in between\n",
    "                #  e.g.['    指标' '  单位' '    桐庐县' '    淳安县']\n",
    "                # print(df)\n",
    "                county_end = [x for x in range(len(df)) if \"一、\" in df[x][0]]\n",
    "                if county_end != []:\n",
    "                    cur = df[1]\n",
    "                    for i in range(2, county_end[0]):\n",
    "                        cur = [ (cur[x] + df[i][x]).replace(\"nan\", \"\").replace(\"\\n\",\"\") for x in range(len(cur)) ]\n",
    "                    counties = cur[2:]\n",
    "                    df = df[county_end[0]:]\n",
    "                    df = np.delete(df, 1, 1).tolist()\n",
    "                else:\n",
    "                    # this case: split between the worksheet\n",
    "                    # e.g. 2009-17, sheet 9, 13, 16, no index name in the left\n",
    "                    county_end = [x for x in range(len(df)) if df[x][0].strip().isdigit()][0]\n",
    "                    counties = df[0]\n",
    "                    for i in range(2, county_end):\n",
    "                        counties = [ (counties[x] + df[i][x]).replace(\"nan\", \"\").replace(\"\\n\",\"\") for x in range(len(cur)) ]\n",
    "                    df = df[county_end:]\n",
    "\n",
    "                counties = [x.replace(\"nan\", \"\").replace(\"\\n\",\"\").replace(\"\\r\",\"\") for x in counties]    \n",
    "                # print(province, counties)\n",
    "                # unit in second column, remove column\n",
    "                df = [y for y in df if ( (\"、\" not in \"\".join(y) and \"，\" not in \"\".join(y)) or \"医院、卫生院床位数\" in \"\".join(y)) and y[0] != \"\" ]\n",
    "                # df = pd.DataFrame(data=df).replace(\"nan\", np.nan).dropna(how=\"any\", axis=0).values.tolist()\n",
    "                # add province and to the front\n",
    "                df.insert(0, [\"县\"] + counties)\n",
    "                df.insert(0, [\"省\"] + [province for x in range(len(counties))] )\n",
    "                df.insert(0, [\"年\"] + [year for x in range(len(counties))])\n",
    "                # transpose\n",
    "                df = np.transpose(df).tolist()\n",
    "                # print(df)\n",
    "\n",
    "                # add to all_data\n",
    "                if all_data != []:\n",
    "                    # already have\n",
    "                    all_data += df[1:]\n",
    "                else:\n",
    "                    all_data = df\n",
    "                \n",
    "                # add to provinces\n",
    "                cur_provinces += [province]\n",
    "\n",
    "        # add to province dic\n",
    "        file_province[cur_file] = np.unique(cur_provinces).tolist()\n",
    "    \n",
    "    # print(file_province)\n",
    "\n",
    "    # # print(np.array(all_data).shape)\n",
    "    # print(\"\\n\".join([\",\".join(x) for x in all_data]))\n",
    "    # # save to csv\n",
    "    with open(out_path, \"a+\") as f:\n",
    "        f.write(\"\\n\".join([\",\".join(x) for x in all_data])) "
   ]
  },
  {
   "cell_type": "code",
   "execution_count": 120,
   "metadata": {},
   "outputs": [
    {
     "name": "stdout",
     "output_type": "stream",
     "text": [
      "(2081, 34)\n",
      "(2081, 33)\n",
      "(2166, 34)\n",
      "(2166, 33)\n",
      "(2176, 34)\n",
      "(2176, 33)\n"
     ]
    }
   ],
   "source": [
    "# for year 2000 to 2002, one more column than others: 国内生产总值\n",
    "# remove and save to another\n",
    "# Format\n",
    "basedir = \"/Users/sun/Desktop/Econ580Data/\"\n",
    "outdir = basedir + \"formated/\"\n",
    "\n",
    "for year in [2000,2001]:\n",
    "    file_path = outdir + str(year) + \".csv\"\n",
    "    df = pd.read_csv(file_path)\n",
    "    print(df.shape)\n",
    "    # print(df)\n",
    "    df = df.drop([\"国内生产总值\"], axis=1)\n",
    "    print(df.shape)\n",
    "    # make a duplicate of the origin file\n",
    "    os.rename(file_path, outdir + str(year) + \"_ori.csv\")\n",
    "    df.to_csv(outdir + str(year) + \".csv\", index=False)  \n",
    "\n",
    "# year 2002 one more column \"农村用电量\"\n",
    "year = 2002\n",
    "file_path = outdir + str(year) + \".csv\"\n",
    "df = pd.read_csv(file_path)\n",
    "print(df.shape)\n",
    "# print(df)\n",
    "df = df.drop([\"农村用电量\"], axis=1)\n",
    "print(df.shape)\n",
    "os.rename(file_path, outdir + str(year) + \"_ori.csv\")\n",
    "df.to_csv(outdir + str(year) + \".csv\", index=False)  "
   ]
  },
  {
   "cell_type": "code",
   "execution_count": 150,
   "metadata": {},
   "outputs": [
    {
     "data": {
      "text/plain": "'/Users/sun/Desktop/Econ580Data/2000-2012dup.csv'"
     },
     "execution_count": 150,
     "metadata": {},
     "output_type": "execute_result"
    }
   ],
   "source": [
    "basedir = \"/Users/sun/Desktop/Econ580Data/\"\n",
    "outdir = basedir + \"formated/\"\n",
    "file_path = basedir+\"2000-2012.csv\"\n",
    "file_path_dup = basedir+\"2000-2012dup.csv\"\n",
    "\n",
    "# remove the old ones\n",
    "if os.path.exists(file_path):\n",
    "    os.remove(file_path) \n",
    "if os.path.exists(file_path_dup):\n",
    "    os.remove(file_path_dup) \n",
    "\n",
    "# append all the file together\n",
    "for year in range(2000,2013):\n",
    "    cur_file = outdir + str(year) + \".csv\"\n",
    "    \n",
    "    # read cur_file\n",
    "    if os.path.exists(cur_file):\n",
    "        with open(cur_file, \"r\") as f:\n",
    "            if year == 2000:\n",
    "                with open(file_path, \"a+\") as dst:\n",
    "                    dst.write(f.read().strip())\n",
    "                    dst.write(\"\\n\")\n",
    "            else:\n",
    "                with open(file_path, \"a+\") as dst:\n",
    "                    # ignore the vaiable names\n",
    "                    dst.write( \"\\n\".join(f.read().split(\"\\n\")[1:]).strip() )\n",
    "                    dst.write(\"\\n\")\n",
    "        \n",
    "        # remove the redundent \"\\n\"\n",
    "        content = \"\"\n",
    "        with open(file_path, \"r\") as dst:\n",
    "            content = dst.read()\n",
    "        with open(file_path, \"w\") as dst:\n",
    "            dst.write(content.replace(\"\\n\\n\",\"\\n\"))\n",
    "\n",
    "# make a copy of the appended file\n",
    "shutil.copy(file_path, file_path_dup)\n"
   ]
  },
  {
   "cell_type": "markdown",
   "metadata": {},
   "source": [
    "## Format and Refine"
   ]
  },
  {
   "cell_type": "markdown",
   "metadata": {},
   "source": [
    "Problems:\n",
    "1. duplicate lines\n",
    "2. province not unique (for some lines)\n",
    "    e.g. 广东省、广西壮族自治区 & 广西壮族自治区\n",
    "         安徽省、福建省\n",
    "3. name for county might be different in the end,\n",
    "    e.g. 广西壮族自治区,邕宁区 & 广西壮族自治区,邕宁县"
   ]
  },
  {
   "cell_type": "code",
   "execution_count": 174,
   "metadata": {},
   "outputs": [
    {
     "name": "stderr",
     "output_type": "stream",
     "text": [
      "/Users/sun/anaconda3/lib/python3.7/site-packages/IPython/core/interactiveshell.py:2718: DtypeWarning: Columns (0,25) have mixed types. Specify dtype option on import or set low_memory=False.\n",
      "  interactivity=interactivity, compiler=compiler, result=result)\n"
     ]
    },
    {
     "name": "stdout",
     "output_type": "stream",
     "text": [
      "(25382, 33)\n"
     ]
    }
   ],
   "source": [
    "# load the data, remove duplicate first\n",
    "basedir = \"/Users/sun/Desktop/Econ580Data/\"\n",
    "# movedir = basedir + \"all/\"\n",
    "# outdir = basedir + \"formated/\"\n",
    "\n",
    "# read the data, use the duplicate one in case of error\n",
    "file_path = basedir+\"2000-2012dup.csv\"\n",
    "csv = pd.read_csv(file_path)\n",
    "\n",
    "# remove duplicate lines, current no duplicate, 25382 lines\n",
    "df = pd.DataFrame(csv).drop_duplicates()\n",
    "print(df.shape)\n"
   ]
  },
  {
   "cell_type": "code",
   "execution_count": 175,
   "metadata": {},
   "outputs": [
    {
     "name": "stdout",
     "output_type": "stream",
     "text": [
      "0\n",
      "1000\n",
      "2000\n",
      "3000\n",
      "4000\n",
      "5000\n",
      "6000\n",
      "7000\n",
      "8000\n",
      "9000\n",
      "10000\n",
      "11000\n",
      "12000\n",
      "13000\n",
      "14000\n",
      "15000\n",
      "16000\n",
      "17000\n",
      "18000\n",
      "19000\n",
      "20000\n",
      "21000\n",
      "22000\n",
      "23000\n",
      "24000\n",
      "25000\n",
      "(25382, 33)\n",
      "error lines: [13331, 13332, 13333, 13334, 13335, 17426, 17427, 17489, 17490, 17491, 17492, 17493, 17494, 17495, 17496, 17497, 17498, 17499, 17500, 17501, 17502, 17503, 17504, 17505, 17506, 17507, 17508, 17509, 17510, 17511, 17512, 17513, 17514, 17515, 17516, 17517, 17518, 17519, 19023, 19024, 19025, 19026, 19027, 19277, 19278, 19279, 19280, 19281, 19991]\n"
     ]
    }
   ],
   "source": [
    "# First tryout for different county names and remove invalid lines\n",
    "# print(df.shape)\n",
    "error_index = []\n",
    "for i in range(df.shape[0]):\n",
    "    cur_line = df.iloc[i]\n",
    "    \n",
    "    # check whether the county exist in current year\n",
    "    if i % 1000 == 0:\n",
    "        print(i)\n",
    "\n",
    "    try:\n",
    "        ori_loc = df.iloc[i][\"县\"]\n",
    "        # change between 区 and 县\n",
    "        if \"区\" in ori_loc:\n",
    "            changed_loc = ori_loc.replace(\"区\", \"县\")\n",
    "        else:\n",
    "            changed_loc = ori_loc.replace(\"县\",\"区\")\n",
    "        \n",
    "        # print(cur_line)\n",
    "        # find the location of county by its name\n",
    "        if ap.area_map.get_relational_addrs(ori_loc):\n",
    "            found_loc = ap.area_map.get_relational_addrs(ori_loc)\n",
    "        else:\n",
    "            found_loc = ap.area_map.get_relational_addrs(changed_loc)\n",
    "        \n",
    "        # replace to as much as possible\n",
    "        if len(found_loc) == 1:\n",
    "            # only one county found, replace\n",
    "            # at use name of the row instead of row index\n",
    "            cur_id = df.iloc[i].name \n",
    "            df.at[cur_id,\"省\"] = found_loc[0][0]\n",
    "            df.at[cur_id,\"县\"] = found_loc[0][2]\n",
    "    except:\n",
    "        # print(i)\n",
    "        error_index.append(i)\n",
    "\n",
    "print(df.shape)\n",
    "print(\"error lines:\", error_index)\n",
    "\n",
    "# save here\n",
    "basedir = \"/Users/sun/Desktop/Econ580Data/\"\n",
    "file_path = basedir + \"2000-2012_pro1.csv\"\n",
    "# remove the old ones\n",
    "if os.path.exists(file_path):\n",
    "    os.remove(file_path) \n",
    "df.to_csv(file_path, index=False)  "
   ]
  },
  {
   "cell_type": "code",
   "execution_count": 176,
   "metadata": {},
   "outputs": [
    {
     "name": "stderr",
     "output_type": "stream",
     "text": [
      "/Users/sun/anaconda3/lib/python3.7/site-packages/IPython/core/interactiveshell.py:2718: DtypeWarning: Columns (0,23,25) have mixed types. Specify dtype option on import or set low_memory=False.\n",
      "  interactivity=interactivity, compiler=compiler, result=result)\n"
     ]
    },
    {
     "name": "stdout",
     "output_type": "stream",
     "text": [
      "(25382, 33)\n",
      "[]\n",
      "(25333, 33)\n"
     ]
    }
   ],
   "source": [
    "# remove error indices\n",
    "basedir = \"/Users/sun/Desktop/Econ580Data/\"\n",
    "# read the data, use the pro1 one in case of error\n",
    "file_path = basedir+\"2000-2012_pro1.csv\"\n",
    "df = pd.read_csv(file_path)\n",
    "\n",
    "# remove duplicate line, size from 25280 here\n",
    "df = pd.DataFrame(csv).drop_duplicates()\n",
    "print(df.shape)\n",
    "\n",
    "# error_index from previous cell, have error in county or province names\n",
    "# error_index = [13331, 13332, 13333, 13334, 13335, 17426, 17427, 17489, 17490, 17491, 17492, 17493, 17494, 17495, 17496, 17497, 17498, 17499, 17500, 17501, 17502, 17503, 17504, 17505, 17506, 17507, 17508, 17509, 17510, 17511, 17512, 17513, 17514, 17515, 17516, 17517, 17518, 17519, 19024, 19025, 19026, 19027, 19028, 19278, 19279, 19280, 19281, 19282, 19992]\n",
    "df = df.drop([df.iloc[i].name for i in error_index])\n",
    "\n",
    "# check again for 省 just in case\n",
    "index_0 = [i for i in range(df.shape[0]) if (not isinstance(df.iloc[i].at['省'],str)) or (not isinstance(df.iloc[i].at['县'],str))]\n",
    "# print(df.iloc[17462].name)\n",
    "# print(df.iloc[17469])\n",
    "print(index)\n",
    "df = df.drop([df.iloc[i].name for i in index])\n",
    "\n",
    "# now 25333 rows\n",
    "print(df.shape)\n",
    "\n",
    "# save here\n",
    "basedir = \"/Users/sun/Desktop/Econ580Data/\"\n",
    "file_path = basedir + \"2000-2012_pro2.csv\"\n",
    "# remove the old ones\n",
    "if os.path.exists(file_path):\n",
    "    os.remove(file_path) \n",
    "df.to_csv(file_path, index=False)  "
   ]
  },
  {
   "cell_type": "code",
   "execution_count": 216,
   "metadata": {},
   "outputs": [
    {
     "name": "stderr",
     "output_type": "stream",
     "text": [
      "/Users/sun/anaconda3/lib/python3.7/site-packages/IPython/core/interactiveshell.py:2718: DtypeWarning: Columns (0,23,25) have mixed types. Specify dtype option on import or set low_memory=False.\n",
      "  interactivity=interactivity, compiler=compiler, result=result)\n"
     ]
    },
    {
     "name": "stdout",
     "output_type": "stream",
     "text": [
      "ori shape: (25333, 33)\n",
      "to remove:  3375\n",
      "cur shape:  (21958, 33)\n"
     ]
    }
   ],
   "source": [
    "# check whether there are still rows with multiple provinces\n",
    "# remove error indices\n",
    "basedir = \"/Users/sun/Desktop/Econ580Data/\"\n",
    "# read the data, use the pro1 one in case of error\n",
    "file_path = basedir+\"2000-2012_pro2.csv\"\n",
    "df = pd.read_csv(file_path)\n",
    "\n",
    "print(\"ori shape:\", df.shape)\n",
    "\n",
    "# check liines with multiple province at a line, check type here just in case\n",
    "index = [i for i in range(df.shape[0]) if (not isinstance(df.iloc[i].at['省'],str)) or \"、\" in df.iloc[i].at['省']]\n",
    "\n",
    "print(\"to remove: \", len(index))\n",
    "# still 3375 lines with multiple provinces\n",
    "df = df.drop([df.iloc[i].name for i in index])\n",
    "\n",
    "print(\"cur shape: \", df.shape)\n",
    "# still have 24937 observations\n",
    "\n",
    "# save here\n",
    "basedir = \"/Users/sun/Desktop/Econ580Data/\"\n",
    "file_path = basedir + \"2000-2012_pro3.csv\"\n",
    "# remove the old ones\n",
    "if os.path.exists(file_path):\n",
    "    os.remove(file_path) \n",
    "df.to_csv(file_path, index=False) "
   ]
  },
  {
   "cell_type": "code",
   "execution_count": 231,
   "metadata": {},
   "outputs": [
    {
     "name": "stderr",
     "output_type": "stream",
     "text": [
      "/Users/sun/anaconda3/lib/python3.7/site-packages/IPython/core/interactiveshell.py:2718: DtypeWarning: Columns (4,5,6,7,8,9,10,11,13,14,15,16,19,20,21,22,23,24,25,26,27,28,29,30) have mixed types. Specify dtype option on import or set low_memory=False.\n",
      "  interactivity=interactivity, compiler=compiler, result=result)\n"
     ]
    },
    {
     "name": "stdout",
     "output_type": "stream",
     "text": [
      "(21362, 33)\n"
     ]
    }
   ],
   "source": [
    "# check again, should be null array\n",
    "basedir = \"/Users/sun/Desktop/Econ580Data/\"\n",
    "# read the data, use the pro1 one in case of error\n",
    "file_path = basedir+\"2000-2012_pro3.csv\"\n",
    "df = pd.read_csv(file_path)\n",
    "# print(df.describe)\n",
    "\n",
    "# resolve types, to numeric\n",
    "for col in df.columns:\n",
    "    if col == '省' or col == '县':\n",
    "        continue\n",
    "    df[col] = pd.to_numeric(df[col], errors='coerce')\n",
    "# df.apply(lambda x: pd.to_numeric(x, errors='coerce')).dropna()\n",
    "\n",
    "# drop lines with too many nan\n",
    "df = df.dropna(thresh=10)\n",
    "# make sure have the the data required here\n",
    "df = df[df['年'].notna()]\n",
    "df = df[df['年末总人口'].notna()]\n",
    "df = df[df['其中：乡村人口'].notna()]\n",
    "\n",
    "print(df.shape) #21473 here\n",
    "\n",
    "# save here\n",
    "basedir = \"/Users/sun/Desktop/Econ580Data/\"\n",
    "file_path = basedir + \"2000-2012_pro4.csv\"\n",
    "# remove the old ones\n",
    "if os.path.exists(file_path):\n",
    "    os.remove(file_path) \n",
    "df.to_csv(file_path, index=False) "
   ]
  },
  {
   "cell_type": "code",
   "execution_count": 232,
   "metadata": {},
   "outputs": [],
   "source": [
    "# check again, should not be type error here any more\n",
    "basedir = \"/Users/sun/Desktop/Econ580Data/\"\n",
    "# read the data, use the pro1 one in case of error\n",
    "file_path = basedir+\"2000-2012_pro4.csv\"\n",
    "df = pd.read_csv(file_path)"
   ]
  },
  {
   "source": [
    "# Add calculated field or other data for analysis\n",
    "\n",
    "Existiing columns:\n",
    "年,省,县,行政区域土地面积,乡(镇)个数,村民委员会个数,年末总户数,其中：乡村户数,年末总人口,其中：乡村人口,年末单位从业人员数,乡村从业人员数,其中：农林牧渔业,农业机械总动力,本地电话用户,第一产业增加值,第二产业增加值,地方财政预算内收入,财政支出,城乡居民储蓄存款余额,年末金融机构各项贷款余额,粮食产量,棉花产量,油料产量,肉类总产量,规模以上工业企业数,规模以上工业总产值(现价),基本建设投资完成额,普通中学在校学生数,小学在校学生数,医院、卫生院床位数,社会福利院数,社会福利院床位数\n",
    "\n",
    "Add now columns for analysis\n",
    "1. aggregate for each county\n",
    "2. rural/imtermediate/urban\n",
    "3. last year's GDP\n",
    "4. dummy for earthquake area or not"
   ],
   "cell_type": "code",
   "metadata": {},
   "execution_count": null,
   "outputs": []
  },
  {
   "cell_type": "code",
   "execution_count": 241,
   "metadata": {},
   "outputs": [],
   "source": [
    "# add rural/urban/immediate\n",
    "basedir = \"/Users/sun/Desktop/Econ580Data/\"\n",
    "# read the data, use the pro1 one in case of error\n",
    "file_path = basedir+\"2000-2012_pro4.csv\"\n",
    "df = pd.read_csv(file_path)\n",
    "\n",
    "def dummy_type(row):\n",
    "    # 0rural, 1immediate, 2urban\n",
    "    return row['其中：乡村人口'] / row['年末总人口']\n",
    "\n",
    "df['type_index'] = df.apply (lambda row: dummy_type(row), axis=1)\n",
    "# index = [i for i in range(df.shape[0]) if df.iloc[i].at[\"type\"] > 1]\n",
    "# print(index)\n",
    "df.describe()\n",
    "\n",
    "# save here\n",
    "basedir = \"/Users/sun/Desktop/Econ580Data/\"\n",
    "file_path = basedir + \"2000-2012_type_index.csv\"\n",
    "# remove the old ones\n",
    "if os.path.exists(file_path):\n",
    "    os.remove(file_path) \n",
    "df.to_csv(file_path, index=False)\n"
   ]
  },
  {
   "cell_type": "code",
   "execution_count": 2,
   "metadata": {},
   "outputs": [],
   "source": [
    "# aggregate in tableau prep\n",
    "# show the stats here\n",
    "\n",
    "# add rural/urban/immediate\n",
    "basedir = \"/Users/sun/Desktop/Econ580Data/\"\n",
    "# read the data, use the pro1 one in case of error\n",
    "file_path = basedir+\"2000-2012after.csv\"\n",
    "df = pd.read_csv(file_path)"
   ]
  },
  {
   "cell_type": "code",
   "execution_count": 10,
   "metadata": {},
   "outputs": [
    {
     "name": "stdout",
     "output_type": "stream",
     "text": [
      "<class 'pandas.core.frame.DataFrame'>\n",
      "RangeIndex: 1617 entries, 0 to 1616\n",
      "Data columns (total 38 columns):\n",
      "Resilience        1617 non-null float64\n",
      "2008就业率           1617 non-null float64\n",
      "2012就业率           1617 non-null float64\n",
      "GDP per capita    1617 non-null float64\n",
      "省                 1617 non-null object\n",
      "县                 1617 non-null object\n",
      "年                 1617 non-null float64\n",
      "行政区域土地面积          1617 non-null float64\n",
      "乡(镇)个数            1617 non-null float64\n",
      "村民委员会个数           1617 non-null float64\n",
      "年末总户数             1617 non-null float64\n",
      "其中：乡村户数           1617 non-null float64\n",
      "年末总人口             1617 non-null float64\n",
      "其中：乡村人口           1617 non-null float64\n",
      "年末单位从业人员数         1617 non-null float64\n",
      "乡村从业人员数           1617 non-null float64\n",
      "其中：农林牧渔业          1617 non-null float64\n",
      "农业机械总动力           1616 non-null float64\n",
      "本地电话用户            1616 non-null float64\n",
      "第一产业增加值           1617 non-null float64\n",
      "第二产业增加值           1617 non-null float64\n",
      "地方财政预算内收入         1617 non-null float64\n",
      "财政支出              1617 non-null float64\n",
      "城乡居民储蓄存款余额        1616 non-null float64\n",
      "年末金融机构各项贷款余额      1617 non-null float64\n",
      "粮食产量              1602 non-null float64\n",
      "棉花产量              1566 non-null float64\n",
      "油料产量              1616 non-null float64\n",
      "肉类总产量             1617 non-null float64\n",
      "规模以上工业企业数         1609 non-null float64\n",
      "规模以上工业总产值(现价)     1617 non-null float64\n",
      "基本建设投资完成额         1617 non-null float64\n",
      "普通中学在校学生数         1617 non-null float64\n",
      "小学在校学生数           1617 non-null float64\n",
      "医院、卫生院床位数         1617 non-null float64\n",
      "社会福利院数            1573 non-null float64\n",
      "社会福利院床位数          1569 non-null float64\n",
      "type_index        1617 non-null float64\n",
      "dtypes: float64(36), object(2)\n",
      "memory usage: 480.1+ KB\n"
     ]
    }
   ],
   "source": [
    "df.info()"
   ]
  },
  {
   "cell_type": "code",
   "execution_count": 39,
   "metadata": {},
   "outputs": [
    {
     "data": {
      "text/html": "<div>\n<style scoped>\n    .dataframe tbody tr th:only-of-type {\n        vertical-align: middle;\n    }\n\n    .dataframe tbody tr th {\n        vertical-align: top;\n    }\n\n    .dataframe thead th {\n        text-align: right;\n    }\n</style>\n<table border=\"1\" class=\"dataframe\">\n  <thead>\n    <tr style=\"text-align: right;\">\n      <th></th>\n      <th>count</th>\n      <th>mean</th>\n      <th>std</th>\n      <th>min</th>\n      <th>25%</th>\n      <th>50%</th>\n      <th>75%</th>\n      <th>max</th>\n    </tr>\n  </thead>\n  <tbody>\n    <tr>\n      <th>医院、卫生院床位数</th>\n      <td>1617.0</td>\n      <td>661.245961</td>\n      <td>472.756043</td>\n      <td>21.8</td>\n      <td>329.166667</td>\n      <td>542.833333</td>\n      <td>900.166667</td>\n      <td>3340.166667</td>\n    </tr>\n  </tbody>\n</table>\n</div>",
      "text/plain": "            count        mean         std   min         25%         50%  \\\n医院、卫生院床位数  1617.0  661.245961  472.756043  21.8  329.166667  542.833333   \n\n                  75%          max  \n医院、卫生院床位数  900.166667  3340.166667  "
     },
     "execution_count": 39,
     "metadata": {},
     "output_type": "execute_result"
    }
   ],
   "source": [
    "pd.DataFrame(df[\"医院、卫生院床位数\"].describe()).T"
   ]
  },
  {
   "cell_type": "code",
   "execution_count": 9,
   "metadata": {},
   "outputs": [
    {
     "output_type": "stream",
     "name": "stdout",
     "text": [
      "<class 'pandas.core.frame.DataFrame'>\nRangeIndex: 1617 entries, 0 to 1616\nData columns (total 38 columns):\nResilience                                                                  1617 non-null float64\n2008 Employment Rate                                                        1617 non-null float64\n2012 Employment Rate                                                        1617 non-null float64\nGDP per capita                                                              1617 non-null float64\nProvince                                                                    1617 non-null object\nCounty                                                                      1617 non-null object\nArea                                                                        1617 non-null float64\nVillage Number                                                              1617 non-null float64\nvillage committee number                                                    1617 non-null float64\nYear end household number                                                   1617 non-null float64\n Among them: Rural household number                                         1617 non-null float64\nYear end population                                                         1617 non-null float64\nAmong them: rural population                                                1617 non-null float64\nyear end industry employment                                                1617 non-null float64\nrural employment                                                            1617 non-null float64\nAmong them: Agriculture forestry animal husbandry and fishery employment    1617 non-null float64\nTotal power of agricultural machinery                                       1616 non-null float64\nlocal phone users                                                           1616 non-null float64\nGVA of first sector                                                         1617 non-null float64\nGVA of second sector                                                        1617 non-null float64\nLocal government budget revenue                                             1617 non-null float64\nLocal fiscal expenditure                                                    1617 non-null float64\nSavings of urban and rural residents                                        1616 non-null float64\nYear end balance of various loans of financial institutions                 1617 non-null float64\nGrain yield                                                                 1602 non-null float64\nCotton yield                                                                1566 non-null float64\nGas yield                                                                   1616 non-null float64\nMeat yield                                                                  1617 non-null float64\nNumber of industrial enterprises above designated size                      1609 non-null float64\nGross industrial output value above designated size                         1617 non-null float64\nCompleted capital construction investment                                   1617 non-null float64\nNumber of students enrolled in junior high school                           1617 non-null float64\nNumber of students enrolled in primary school                               1617 non-null float64\nNumber of beds in hospitals and health centers                              1617 non-null float64\nNumber of social welfare institutions                                       1573 non-null float64\nNumber of beds in social welfare institutions                               1569 non-null float64\nrural population share                                                      1617 non-null float64\nEarthquake affected dummy                                                   1617 non-null int64\ndtypes: float64(35), int64(1), object(2)\nmemory usage: 480.1+ KB\n"
     ]
    }
   ],
   "source": [
    "# add the earthquake dummy\n",
    "\n",
    "basedir = \"/Users/sun/Desktop/Econ580Data/\"\n",
    "# read the data, use the pro1 one in case of error\n",
    "file_path = basedir+\"2000-2012afterDup.csv\"\n",
    "df = pd.read_csv(file_path)\n",
    "\n",
    "# print(df)\n",
    "# df\n",
    "# Sichuan, Gansu, Shaanxi, Chongqing, Shanxi, Guizhou and Hubei\n",
    "province_affected = [\"四川省\",\"甘肃省\",\"陕西省\",\"重庆市\",\"山西省\",\"贵州省\",\"湖北省\"]\n",
    "earthquake_dummy = []\n",
    "for i in range(df.shape[0]):\n",
    "    # print(df.iloc[i][\"Province\"], df.iloc[i][\"Province\"] in province_affected)\n",
    "    if df.iloc[i][\"Province\"] in province_affected:\n",
    "        earthquake_dummy.append(1)\n",
    "    else:\n",
    "        earthquake_dummy.append(0)\n",
    "# add one column\n",
    "df['Earthquake affected dummy'] = earthquake_dummy\n",
    "\n",
    "# remove year column\n",
    "df = df.drop(columns=[\"Year\"])\n",
    "  \n",
    "# Observe the result\n",
    "df.info()\n",
    "\n",
    "# save\n",
    "file_path = basedir + \"2000-2012_all.csv\"\n",
    "# remove the old ones\n",
    "if os.path.exists(file_path):\n",
    "    os.remove(file_path) \n",
    "df.to_csv(file_path, index=False)\n"
   ]
  },
  {
   "cell_type": "code",
   "execution_count": null,
   "metadata": {},
   "outputs": [],
   "source": [
    "# current columns:\n",
    "# Resilience,2008 Employment Rate,2012 Employment Rate,GDP per capita,Province,County,Year,Area,Village Number,village committee number,Year end household number, Among them: Rural household number,Year end population,Among them: rural population,year end industry employment,rural employment,Among them: Agriculture forestry animal husbandry and fishery employment,Total power of agricultural machinery,local phone users,GVA of first sector,GVA of second sector,Local government budget revenue,Local fiscal expenditure,Savings of urban and rural residents,Year end balance of various loans of financial institutions,Grain yield,Cotton yield,Gas yield,Meat yield,Number of industrial enterprises above designated size,Gross industrial output value above designated size,Completed capital construction investment,Number of students enrolled in junior high school,Number of students enrolled in primary school,Number of beds in hospitals and health centers,Number of social welfare institutions,Number of beds in social welfare institutions,rural population share"
   ]
  }
 ],
 "metadata": {
  "kernelspec": {
   "name": "python3",
   "display_name": "Python 3.7.3 64-bit (conda)",
   "metadata": {
    "interpreter": {
     "hash": "7588a3fb0c9403ab7ab30786f70afa789223f5fe30680232a90046c307ab79c7"
    }
   }
  },
  "language_info": {
   "codemirror_mode": {
    "name": "ipython",
    "version": 3
   },
   "file_extension": ".py",
   "mimetype": "text/x-python",
   "name": "python",
   "nbconvert_exporter": "python",
   "pygments_lexer": "ipython3",
   "version": "3.7.3-final"
  },
  "orig_nbformat": 2
 },
 "nbformat": 4,
 "nbformat_minor": 2
}