{
 "metadata": {
  "language_info": {
   "codemirror_mode": {
    "name": "ipython",
    "version": 3
   },
   "file_extension": ".py",
   "mimetype": "text/x-python",
   "name": "python",
   "nbconvert_exporter": "python",
   "pygments_lexer": "ipython3",
   "version": "3.7.3-final"
  },
  "orig_nbformat": 2,
  "kernelspec": {
   "name": "python3",
   "display_name": "Python 3.7.3 64-bit ('base': conda)",
   "metadata": {
    "interpreter": {
     "hash": "7588a3fb0c9403ab7ab30786f70afa789223f5fe30680232a90046c307ab79c7"
    }
   }
  }
 },
 "nbformat": 4,
 "nbformat_minor": 2,
 "cells": [
  {
   "cell_type": "code",
   "execution_count": 65,
   "metadata": {},
   "outputs": [],
   "source": [
    "import os\n",
    "import shutil\n",
    "import pandas as pd\n"
   ]
  },
  {
   "cell_type": "code",
   "execution_count": 2,
   "metadata": {},
   "outputs": [],
   "source": [
    "# rename all the excels to year-index and copy to a new folder"
   ]
  },
  {
   "cell_type": "code",
   "execution_count": 59,
   "metadata": {
    "tags": []
   },
   "outputs": [
    {
     "output_type": "stream",
     "name": "stdout",
     "text": [
      "Done\n"
     ]
    }
   ],
   "source": [
    "basedir = \"/Users/sun/Desktop/Econ580Data/\"\n",
    "movedir = basedir + \"all/\"\n",
    "\n",
    "# clean all the files in all first \n",
    "if os.path.isdir(movedir):\n",
    "    shutil.rmtree(movedir)\n",
    "os.mkdir(movedir)\n",
    "\n",
    "# used to grant permission\n",
    "# permission_array = []\n",
    "# Walk through all files in the directory that contains the files to copy to the \"all\" folder\n",
    "for root, dirs, files in os.walk(basedir):\n",
    "    # use data from 1999 to 2012\n",
    "    if not root[-4:].isdigit():\n",
    "        continue\n",
    "    if int(root[-4:]) < 2000 or int(root[-4:]) > 2012:\n",
    "        continue\n",
    "    \n",
    "    index = 1\n",
    "    for file in files:\n",
    "        ori_file = os.path.abspath(root) + \"/\" + file\n",
    "        base, extension = os.path.splitext(file)\n",
    "\n",
    "        if extension != \".xls\":\n",
    "            continue\n",
    "        # file year-index.xls\n",
    "        new_file = movedir + root[-4:] + \"-\" + str(index) + extension\n",
    "        \n",
    "        index += 1\n",
    "        # break\n",
    "        shutil.copy(ori_file, new_file)\n",
    "        # permission_array.append(new_file)\n",
    "\n",
    "print(\"Done\")\n",
    "# print(\"\\\"\" + \"\\\",  _\\n\\\"\"\"\".join(permission_array) + \"\\\"\" )"
   ]
  },
  {
   "cell_type": "code",
   "execution_count": 46,
   "metadata": {},
   "outputs": [],
   "source": [
    "# xls2xlsx, in vba file\n",
    "# references: \n",
    "# 1. translate xls to xlsx: https://answers.microsoft.com/en-us/msoffice/forum/msoffice_excel-mso_other/batch-convert-xls-to-xlsx/1d9b3d78-daf0-4014-8fb2-930aca6493b0\n",
    "# 2. request permission for all: https://docs.microsoft.com/en-us/office/vba/office-mac/grantaccesstomultiplefiles\n"
   ]
  },
  {
   "cell_type": "code",
   "execution_count": null,
   "metadata": {},
   "outputs": [],
   "source": [
    "# remove the xls file if it is already converted to xlsx\n",
    "basedir = \"/Users/sun/Desktop/Econ580Data/\"\n",
    "movedir = basedir + \"all/\"\n",
    "\n",
    "# Walk through all files in the directory that contains the files to copy to the \"all\" folder\n",
    "for file in listdir(mypath):\n",
    "    # should only have xls and xlsx\n",
    "    ori_file = os.path.abspath(root) + \"/\" + file\n",
    "    base, extension = os.path.splitext(file)\n",
    "\n",
    "    if extension != \".xlsx\":\n",
    "        continue\n",
    "    # is now filename.xlsx\n",
    "    # TODO: remoove the xls based on xlsx file\n",
    "    print(file[:-1])\n",
    "    \n",
    "# check whether there are xls file not converted to xlsx\n",
    "xls_file = [f for file in listdir(mypath) if os.path.splitext(file)[1] == \".xls\"]\n",
    "print(xls_file)"
   ]
  }
 ]
}